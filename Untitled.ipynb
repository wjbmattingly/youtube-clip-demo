{
 "cells": [
  {
   "cell_type": "code",
   "execution_count": 4,
   "id": "58a77d94-77ba-4c63-9fb8-4500675f1367",
   "metadata": {},
   "outputs": [],
   "source": [
    "import pandas as pd\n",
    "import glob"
   ]
  },
  {
   "cell_type": "code",
   "execution_count": 59,
   "id": "f754adf3-3c4b-4d79-b357-51fdd0d4d34c",
   "metadata": {},
   "outputs": [
    {
     "data": {
      "text/plain": [
       "['cjbg-fbg0006', 'csg-1276', 'cea-FaZellweger-90A-01-2']"
      ]
     },
     "execution_count": 59,
     "metadata": {},
     "output_type": "execute_result"
    }
   ],
   "source": [
    "\n",
    "files = glob.glob(\"images/*/*.jpg\")\n",
    "folders = list(set([file.split(\"\\\\\")[-2].replace(\"_\", \"-\") for file in files]))\n",
    "folders"
   ]
  },
  {
   "cell_type": "code",
   "execution_count": 44,
   "id": "ad92e54b-a03e-49ee-91ad-70a63adf0c28",
   "metadata": {},
   "outputs": [
    {
     "data": {
      "text/html": [
       "<div>\n",
       "<style scoped>\n",
       "    .dataframe tbody tr th:only-of-type {\n",
       "        vertical-align: middle;\n",
       "    }\n",
       "\n",
       "    .dataframe tbody tr th {\n",
       "        vertical-align: top;\n",
       "    }\n",
       "\n",
       "    .dataframe thead th {\n",
       "        text-align: right;\n",
       "    }\n",
       "</style>\n",
       "<table border=\"1\" class=\"dataframe\">\n",
       "  <thead>\n",
       "    <tr style=\"text-align: right;\">\n",
       "      <th></th>\n",
       "      <th>id</th>\n",
       "      <th>src</th>\n",
       "      <th>href</th>\n",
       "      <th>width</th>\n",
       "      <th>height</th>\n",
       "      <th>label</th>\n",
       "      <th>active</th>\n",
       "      <th>shelfmark</th>\n",
       "    </tr>\n",
       "  </thead>\n",
       "  <tbody>\n",
       "    <tr>\n",
       "      <th>0</th>\n",
       "      <td>327812</td>\n",
       "      <td>https://www.e-codices.unifr.ch/loris/kba/kba-0...</td>\n",
       "      <td>https://www.e-codices.unifr.ch/en/kba/0003/bin...</td>\n",
       "      <td>100.0</td>\n",
       "      <td>150.0</td>\n",
       "      <td>Front cover</td>\n",
       "      <td>True</td>\n",
       "      <td>Aarau, Aargauer Kantonsbibliothek, MsMurF 3</td>\n",
       "    </tr>\n",
       "  </tbody>\n",
       "</table>\n",
       "</div>"
      ],
      "text/plain": [
       "       id                                                src  \\\n",
       "0  327812  https://www.e-codices.unifr.ch/loris/kba/kba-0...   \n",
       "\n",
       "                                                href  width  height  \\\n",
       "0  https://www.e-codices.unifr.ch/en/kba/0003/bin...  100.0   150.0   \n",
       "\n",
       "         label active                                    shelfmark  \n",
       "0  Front cover   True  Aarau, Aargauer Kantonsbibliothek, MsMurF 3  "
      ]
     },
     "execution_count": 44,
     "metadata": {},
     "output_type": "execute_result"
    }
   ],
   "source": [
    "df = pd.read_csv(\"data/index.csv\")\n",
    "df.head(1)"
   ]
  },
  {
   "cell_type": "code",
   "execution_count": 48,
   "id": "56f4b65b-e656-4555-affb-9d6215b0ddeb",
   "metadata": {},
   "outputs": [],
   "source": [
    "rels = df.src.tolist()\n",
    "rel_names = [rel.split(\"/\")[5] for rel in rels]"
   ]
  },
  {
   "cell_type": "code",
   "execution_count": 49,
   "id": "7ec73000-cc24-4cce-9fc1-b7be0ef270d7",
   "metadata": {},
   "outputs": [],
   "source": [
    "df[\"rel_names\"] = rel_names"
   ]
  },
  {
   "cell_type": "code",
   "execution_count": 64,
   "id": "77c73a68-ea13-4f5f-8427-b47b32c6f503",
   "metadata": {},
   "outputs": [],
   "source": [
    "citation_df = df.loc[df.rel_names.isin(folders)]"
   ]
  },
  {
   "cell_type": "code",
   "execution_count": 68,
   "id": "87512138-3e8b-4395-a65b-0179493aaeed",
   "metadata": {},
   "outputs": [],
   "source": [
    "citation = citation_df.to_markdown()"
   ]
  },
  {
   "cell_type": "code",
   "execution_count": 70,
   "id": "6f641ca5-48bc-448b-9ef1-9caae72b8970",
   "metadata": {},
   "outputs": [],
   "source": [
    "with open(\"data/citation.md\", \"w\", encoding=\"utf-8\") as f:\n",
    "    f.write(citation)"
   ]
  },
  {
   "cell_type": "code",
   "execution_count": null,
   "id": "5dab4ee5-4142-473d-bf24-b5a7834dbe1f",
   "metadata": {},
   "outputs": [],
   "source": []
  }
 ],
 "metadata": {
  "kernelspec": {
   "display_name": "Python 3 (ipykernel)",
   "language": "python",
   "name": "python3"
  },
  "language_info": {
   "codemirror_mode": {
    "name": "ipython",
    "version": 3
   },
   "file_extension": ".py",
   "mimetype": "text/x-python",
   "name": "python",
   "nbconvert_exporter": "python",
   "pygments_lexer": "ipython3",
   "version": "3.8.5"
  }
 },
 "nbformat": 4,
 "nbformat_minor": 5
}
