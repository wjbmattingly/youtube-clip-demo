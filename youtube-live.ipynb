{
 "cells": [
  {
   "cell_type": "code",
   "execution_count": 2,
   "id": "343a5ba9-e225-4833-9131-aed8955fde93",
   "metadata": {},
   "outputs": [],
   "source": [
    "from sentence_transformers import SentenceTransformer\n",
    "from PIL import Image\n",
    "import glob\n",
    "from annoy import AnnoyIndex"
   ]
  },
  {
   "cell_type": "code",
   "execution_count": 3,
   "id": "c7cd8f7c-7876-48ee-8327-f8439f8de905",
   "metadata": {},
   "outputs": [
    {
     "data": {
      "text/plain": [
       "629"
      ]
     },
     "execution_count": 3,
     "metadata": {},
     "output_type": "execute_result"
    }
   ],
   "source": [
    "files = glob.glob(\"images/*/*.jpg\")\n",
    "len(files)"
   ]
  },
  {
   "cell_type": "code",
   "execution_count": 8,
   "id": "d9fd4f77-cc24-4ba1-ac13-36b33a897d14",
   "metadata": {},
   "outputs": [],
   "source": [
    "img_list = []\n",
    "for file in files:\n",
    "    img_list.append(Image.open(file))"
   ]
  },
  {
   "cell_type": "code",
   "execution_count": 9,
   "id": "b5008715-b89f-4f65-9c7d-18e479c67689",
   "metadata": {},
   "outputs": [
    {
     "data": {
      "text/plain": [
       "629"
      ]
     },
     "execution_count": 9,
     "metadata": {},
     "output_type": "execute_result"
    }
   ],
   "source": [
    "len(img_list)"
   ]
  },
  {
   "cell_type": "code",
   "execution_count": 10,
   "id": "a6489847-cc96-4cee-ac76-8b23a33d24a0",
   "metadata": {},
   "outputs": [
    {
     "name": "stderr",
     "output_type": "stream",
     "text": [
      "ftfy or spacy is not installed using BERT BasicTokenizer instead of ftfy.\n"
     ]
    }
   ],
   "source": [
    "model = SentenceTransformer('clip-ViT-B-32')"
   ]
  },
  {
   "cell_type": "code",
   "execution_count": 11,
   "id": "fd14db88-df3a-46c1-984c-a88dca95d74f",
   "metadata": {},
   "outputs": [
    {
     "data": {
      "text/plain": [
       "629"
      ]
     },
     "execution_count": 11,
     "metadata": {},
     "output_type": "execute_result"
    }
   ],
   "source": [
    "embeddings = model.encode(img_list, batch_size=32)\n",
    "len(embeddings)"
   ]
  },
  {
   "cell_type": "code",
   "execution_count": 12,
   "id": "955c381e-b313-4c73-adc1-65aa17cc80cf",
   "metadata": {},
   "outputs": [
    {
     "data": {
      "text/plain": [
       "(629, 512)"
      ]
     },
     "execution_count": 12,
     "metadata": {},
     "output_type": "execute_result"
    }
   ],
   "source": [
    "embeddings.shape"
   ]
  },
  {
   "cell_type": "code",
   "execution_count": 14,
   "id": "7a56e3d0-2d79-4a46-81df-b66cf0cb011b",
   "metadata": {},
   "outputs": [],
   "source": [
    "# embeddings[0]"
   ]
  },
  {
   "cell_type": "code",
   "execution_count": 15,
   "id": "4ef1c2bf-318c-4830-bf72-29272bb898e9",
   "metadata": {},
   "outputs": [],
   "source": [
    "annoy_index = AnnoyIndex(512, metric=\"angular\")"
   ]
  },
  {
   "cell_type": "code",
   "execution_count": null,
   "id": "e0d54258-89b5-4eaa-86d3-62e82c1e5bc9",
   "metadata": {},
   "outputs": [],
   "source": []
  }
 ],
 "metadata": {
  "kernelspec": {
   "display_name": "Python 3 (ipykernel)",
   "language": "python",
   "name": "python3"
  },
  "language_info": {
   "codemirror_mode": {
    "name": "ipython",
    "version": 3
   },
   "file_extension": ".py",
   "mimetype": "text/x-python",
   "name": "python",
   "nbconvert_exporter": "python",
   "pygments_lexer": "ipython3",
   "version": "3.8.5"
  }
 },
 "nbformat": 4,
 "nbformat_minor": 5
}
